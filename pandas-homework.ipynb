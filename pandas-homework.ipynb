{
 "cells": [
  {
   "cell_type": "code",
   "execution_count": 1,
   "metadata": {},
   "outputs": [],
   "source": [
    "import pandas as pd"
   ]
  },
  {
   "cell_type": "code",
   "execution_count": 2,
   "metadata": {},
   "outputs": [],
   "source": [
    "file_csv = \"Heroesofpymoli_data.csv\""
   ]
  },
  {
   "cell_type": "code",
   "execution_count": 3,
   "metadata": {},
   "outputs": [],
   "source": [
    "data_df = pd.read_csv(file_csv)"
   ]
  },
  {
   "cell_type": "code",
   "execution_count": 4,
   "metadata": {},
   "outputs": [
    {
     "data": {
      "text/html": [
       "<div>\n",
       "<style scoped>\n",
       "    .dataframe tbody tr th:only-of-type {\n",
       "        vertical-align: middle;\n",
       "    }\n",
       "\n",
       "    .dataframe tbody tr th {\n",
       "        vertical-align: top;\n",
       "    }\n",
       "\n",
       "    .dataframe thead th {\n",
       "        text-align: right;\n",
       "    }\n",
       "</style>\n",
       "<table border=\"1\" class=\"dataframe\">\n",
       "  <thead>\n",
       "    <tr style=\"text-align: right;\">\n",
       "      <th></th>\n",
       "      <th>Purchase ID</th>\n",
       "      <th>SN</th>\n",
       "      <th>Age</th>\n",
       "      <th>Gender</th>\n",
       "      <th>Item ID</th>\n",
       "      <th>Item Name</th>\n",
       "      <th>Price</th>\n",
       "    </tr>\n",
       "  </thead>\n",
       "  <tbody>\n",
       "    <tr>\n",
       "      <th>0</th>\n",
       "      <td>0</td>\n",
       "      <td>Lisim78</td>\n",
       "      <td>20</td>\n",
       "      <td>Male</td>\n",
       "      <td>108</td>\n",
       "      <td>Extraction, Quickblade Of Trembling Hands</td>\n",
       "      <td>3.53</td>\n",
       "    </tr>\n",
       "    <tr>\n",
       "      <th>1</th>\n",
       "      <td>1</td>\n",
       "      <td>Lisovynya38</td>\n",
       "      <td>40</td>\n",
       "      <td>Male</td>\n",
       "      <td>143</td>\n",
       "      <td>Frenzied Scimitar</td>\n",
       "      <td>1.56</td>\n",
       "    </tr>\n",
       "    <tr>\n",
       "      <th>2</th>\n",
       "      <td>2</td>\n",
       "      <td>Ithergue48</td>\n",
       "      <td>24</td>\n",
       "      <td>Male</td>\n",
       "      <td>92</td>\n",
       "      <td>Final Critic</td>\n",
       "      <td>4.88</td>\n",
       "    </tr>\n",
       "    <tr>\n",
       "      <th>3</th>\n",
       "      <td>3</td>\n",
       "      <td>Chamassasya86</td>\n",
       "      <td>24</td>\n",
       "      <td>Male</td>\n",
       "      <td>100</td>\n",
       "      <td>Blindscythe</td>\n",
       "      <td>3.27</td>\n",
       "    </tr>\n",
       "    <tr>\n",
       "      <th>4</th>\n",
       "      <td>4</td>\n",
       "      <td>Iskosia90</td>\n",
       "      <td>23</td>\n",
       "      <td>Male</td>\n",
       "      <td>131</td>\n",
       "      <td>Fury</td>\n",
       "      <td>1.44</td>\n",
       "    </tr>\n",
       "  </tbody>\n",
       "</table>\n",
       "</div>"
      ],
      "text/plain": [
       "   Purchase ID             SN  Age Gender  Item ID  \\\n",
       "0            0        Lisim78   20   Male      108   \n",
       "1            1    Lisovynya38   40   Male      143   \n",
       "2            2     Ithergue48   24   Male       92   \n",
       "3            3  Chamassasya86   24   Male      100   \n",
       "4            4      Iskosia90   23   Male      131   \n",
       "\n",
       "                                   Item Name  Price  \n",
       "0  Extraction, Quickblade Of Trembling Hands   3.53  \n",
       "1                          Frenzied Scimitar   1.56  \n",
       "2                               Final Critic   4.88  \n",
       "3                                Blindscythe   3.27  \n",
       "4                                       Fury   1.44  "
      ]
     },
     "execution_count": 4,
     "metadata": {},
     "output_type": "execute_result"
    }
   ],
   "source": [
    "data_df.head()"
   ]
  },
  {
   "cell_type": "markdown",
   "metadata": {},
   "source": [
    "Display the total number of players"
   ]
  },
  {
   "cell_type": "code",
   "execution_count": 5,
   "metadata": {},
   "outputs": [],
   "source": [
    "unique_players = data_df[\"SN\"].unique()"
   ]
  },
  {
   "cell_type": "code",
   "execution_count": 6,
   "metadata": {},
   "outputs": [
    {
     "data": {
      "text/html": [
       "<div>\n",
       "<style scoped>\n",
       "    .dataframe tbody tr th:only-of-type {\n",
       "        vertical-align: middle;\n",
       "    }\n",
       "\n",
       "    .dataframe tbody tr th {\n",
       "        vertical-align: top;\n",
       "    }\n",
       "\n",
       "    .dataframe thead th {\n",
       "        text-align: right;\n",
       "    }\n",
       "</style>\n",
       "<table border=\"1\" class=\"dataframe\">\n",
       "  <thead>\n",
       "    <tr style=\"text-align: right;\">\n",
       "      <th></th>\n",
       "      <th>total_players</th>\n",
       "    </tr>\n",
       "  </thead>\n",
       "  <tbody>\n",
       "    <tr>\n",
       "      <th>0</th>\n",
       "      <td>576</td>\n",
       "    </tr>\n",
       "  </tbody>\n",
       "</table>\n",
       "</div>"
      ],
      "text/plain": [
       "   total_players\n",
       "0            576"
      ]
     },
     "execution_count": 6,
     "metadata": {},
     "output_type": "execute_result"
    }
   ],
   "source": [
    "total_players_data = len(unique_players)\n",
    "total_players_dicts = [{\"total_players\":total_players_data}]\n",
    "total_players = pd.DataFrame(total_players_dicts)\n",
    "total_players"
   ]
  },
  {
   "cell_type": "markdown",
   "metadata": {},
   "source": [
    "Purchasing Analysis (Total)\n",
    " \n",
    "Run basic calculations to obtain number of unique items, average price, etc.\n",
    "\n",
    "\n",
    "Create a summary data frame to hold the results\n",
    "\n",
    "\n",
    "Optional: give the displayed data cleaner formatting\n",
    "\n",
    "\n",
    "Display the summary data frame"
   ]
  },
  {
   "cell_type": "code",
   "execution_count": 7,
   "metadata": {},
   "outputs": [],
   "source": [
    "unique_items = data_df[\"Item Name\"].unique()"
   ]
  },
  {
   "cell_type": "code",
   "execution_count": 8,
   "metadata": {},
   "outputs": [],
   "source": [
    "Number_of_Unique_Item = len(unique_items)"
   ]
  },
  {
   "cell_type": "code",
   "execution_count": 9,
   "metadata": {},
   "outputs": [],
   "source": [
    "Average_Price = data_df[\"Price\"].mean()"
   ]
  },
  {
   "cell_type": "code",
   "execution_count": 10,
   "metadata": {},
   "outputs": [],
   "source": [
    "Number_Of_Purchase = len(data_df[\"Purchase ID\"])"
   ]
  },
  {
   "cell_type": "code",
   "execution_count": 11,
   "metadata": {},
   "outputs": [],
   "source": [
    "Total_Revenue = data_df[\"Price\"].sum()"
   ]
  },
  {
   "cell_type": "code",
   "execution_count": 12,
   "metadata": {},
   "outputs": [
    {
     "data": {
      "text/html": [
       "<div>\n",
       "<style scoped>\n",
       "    .dataframe tbody tr th:only-of-type {\n",
       "        vertical-align: middle;\n",
       "    }\n",
       "\n",
       "    .dataframe tbody tr th {\n",
       "        vertical-align: top;\n",
       "    }\n",
       "\n",
       "    .dataframe thead th {\n",
       "        text-align: right;\n",
       "    }\n",
       "</style>\n",
       "<table border=\"1\" class=\"dataframe\">\n",
       "  <thead>\n",
       "    <tr style=\"text-align: right;\">\n",
       "      <th></th>\n",
       "      <th>Number of Unique Item</th>\n",
       "      <th>Average Price</th>\n",
       "      <th>Number Of Purchases</th>\n",
       "      <th>Total Revenue</th>\n",
       "    </tr>\n",
       "  </thead>\n",
       "  <tbody>\n",
       "    <tr>\n",
       "      <th>0</th>\n",
       "      <td>179</td>\n",
       "      <td>$3.05</td>\n",
       "      <td>780</td>\n",
       "      <td>$2,379.77</td>\n",
       "    </tr>\n",
       "  </tbody>\n",
       "</table>\n",
       "</div>"
      ],
      "text/plain": [
       "   Number of Unique Item Average Price  Number Of Purchases Total Revenue\n",
       "0                    179         $3.05                  780     $2,379.77"
      ]
     },
     "execution_count": 12,
     "metadata": {},
     "output_type": "execute_result"
    }
   ],
   "source": [
    "Summary_dicts = [{\"Number of Unique Item\":Number_of_Unique_Item,\"Average Price\":Average_Price,\"Number Of Purchases\":Number_Of_Purchase,\"Total Revenue\":Total_Revenue}]\n",
    "Summary_df = pd.DataFrame(Summary_dicts)\n",
    "Summary_df[\"Average Price\"] = Summary_df[\"Average Price\"].map(\"${0:,.2f}\".format)\n",
    "Summary_df[\"Total Revenue\"] = Summary_df[\"Total Revenue\"].map(\"${0:,.2f}\".format)\n",
    "Summary_df"
   ]
  },
  {
   "cell_type": "markdown",
   "metadata": {},
   "source": [
    " Gender Demographics\n",
    " \n",
    "Percentage and Count of Male Players\n",
    "\n",
    "\n",
    "Percentage and Count of Female Players\n",
    "\n",
    "\n",
    "Percentage and Count of Other / Non-Disclosed"
   ]
  },
  {
   "cell_type": "code",
   "execution_count": 13,
   "metadata": {},
   "outputs": [],
   "source": [
    "Male_Players = data_df.loc[data_df[\"Gender\"]==\"Male\",:]\n",
    "Total_Male = Male_Players[\"SN\"].unique()\n",
    "Total_Male_Number = len(Total_Male)"
   ]
  },
  {
   "cell_type": "code",
   "execution_count": 14,
   "metadata": {},
   "outputs": [],
   "source": [
    "Female_Players = data_df.loc[data_df[\"Gender\"]==\"Female\",:]\n",
    "Total_Female = Female_Players[\"SN\"].unique()\n",
    "Total_Female_Number = len(Total_Female)"
   ]
  },
  {
   "cell_type": "code",
   "execution_count": 15,
   "metadata": {},
   "outputs": [],
   "source": [
    "Other_Players = data_df.loc[(data_df[\"Gender\"]!=\"Female\") & (data_df[\"Gender\"]!= \"Male\"),:]\n",
    "Other_Total = Other_Players[\"SN\"].unique()\n",
    "Other_Players_Number = len(Other_Total)"
   ]
  },
  {
   "cell_type": "code",
   "execution_count": 16,
   "metadata": {},
   "outputs": [],
   "source": [
    "Male_percentage = Total_Male_Number / total_players_data "
   ]
  },
  {
   "cell_type": "code",
   "execution_count": 17,
   "metadata": {},
   "outputs": [],
   "source": [
    "Female_percentage = Total_Female_Number / total_players_data "
   ]
  },
  {
   "cell_type": "code",
   "execution_count": 18,
   "metadata": {},
   "outputs": [],
   "source": [
    "Other_percentage = Other_Players_Number / total_players_data "
   ]
  },
  {
   "cell_type": "code",
   "execution_count": 19,
   "metadata": {},
   "outputs": [],
   "source": [
    "Gender_Summary_dicts = {'Total Count':[Total_Male_Number,Total_Female_Number,Other_Players_Number],'Percentage of Players':[Male_percentage,Female_percentage,Other_percentage]}"
   ]
  },
  {
   "cell_type": "code",
   "execution_count": 20,
   "metadata": {},
   "outputs": [
    {
     "data": {
      "text/html": [
       "<div>\n",
       "<style scoped>\n",
       "    .dataframe tbody tr th:only-of-type {\n",
       "        vertical-align: middle;\n",
       "    }\n",
       "\n",
       "    .dataframe tbody tr th {\n",
       "        vertical-align: top;\n",
       "    }\n",
       "\n",
       "    .dataframe thead th {\n",
       "        text-align: right;\n",
       "    }\n",
       "</style>\n",
       "<table border=\"1\" class=\"dataframe\">\n",
       "  <thead>\n",
       "    <tr style=\"text-align: right;\">\n",
       "      <th></th>\n",
       "      <th>Total Count</th>\n",
       "      <th>Percentage of Players</th>\n",
       "    </tr>\n",
       "  </thead>\n",
       "  <tbody>\n",
       "    <tr>\n",
       "      <th>Male</th>\n",
       "      <td>484</td>\n",
       "      <td>84.03%</td>\n",
       "    </tr>\n",
       "    <tr>\n",
       "      <th>Female</th>\n",
       "      <td>81</td>\n",
       "      <td>14.06%</td>\n",
       "    </tr>\n",
       "    <tr>\n",
       "      <th>Other/Non-Disclosed</th>\n",
       "      <td>11</td>\n",
       "      <td>1.91%</td>\n",
       "    </tr>\n",
       "  </tbody>\n",
       "</table>\n",
       "</div>"
      ],
      "text/plain": [
       "                     Total Count Percentage of Players\n",
       "Male                         484                84.03%\n",
       "Female                        81                14.06%\n",
       "Other/Non-Disclosed           11                 1.91%"
      ]
     },
     "execution_count": 20,
     "metadata": {},
     "output_type": "execute_result"
    }
   ],
   "source": [
    "Gender_Summary_df = pd.DataFrame(Gender_Summary_dicts,index=['Male','Female','Other/Non-Disclosed'])\n",
    "Gender_Summary_df[\"Percentage of Players\"] = Gender_Summary_df[\"Percentage of Players\"].map(\"{:,.2%}\".format)\n",
    "Gender_Summary_df"
   ]
  },
  {
   "cell_type": "markdown",
   "metadata": {},
   "source": [
    " Purchasing Analysis (Gender)\n",
    " \n",
    "Run basic calculations to obtain purchase count, avg. purchase price, avg. purchase total per person etc. by gender\n",
    "\n",
    "\n",
    "Create a summary data frame to hold the results\n",
    "\n",
    "\n",
    "Optional: give the displayed data cleaner formatting\n",
    "\n",
    "\n",
    "Display the summary data frame"
   ]
  },
  {
   "cell_type": "code",
   "execution_count": 21,
   "metadata": {},
   "outputs": [],
   "source": [
    "columns = [\"Gender\"]\n",
    "Female_Purchase = data_df.loc[data_df[\"Gender\"]==\"Female\",columns]\n",
    "Female_Purchase_count = len(Female_Purchase)"
   ]
  },
  {
   "cell_type": "code",
   "execution_count": 22,
   "metadata": {},
   "outputs": [],
   "source": [
    "columns = [\"Gender\"]\n",
    "Male_Purchase = data_df.loc[data_df[\"Gender\"]==\"Male\",columns]\n",
    "Male_Purchase_count = len(Male_Purchase)"
   ]
  },
  {
   "cell_type": "code",
   "execution_count": 23,
   "metadata": {},
   "outputs": [],
   "source": [
    "columns = [\"Gender\"]\n",
    "Other_Purchase = data_df.loc[(data_df[\"Gender\"]!=\"Female\") & (data_df[\"Gender\"]!= \"Male\"),columns]\n",
    "Other_Purchase_count = len(Other_Purchase)"
   ]
  },
  {
   "cell_type": "code",
   "execution_count": 24,
   "metadata": {},
   "outputs": [],
   "source": [
    "columns = [\"Gender\",\"Price\"]\n",
    "Female_Purchase_Price = data_df.loc[data_df[\"Gender\"]==\"Female\",columns]\n",
    "Female_Purchase_Average = Female_Purchase_Price[\"Price\"].mean()"
   ]
  },
  {
   "cell_type": "code",
   "execution_count": 25,
   "metadata": {},
   "outputs": [],
   "source": [
    "columns = [\"Gender\",\"Price\"]\n",
    "Male_Purchase_Price = data_df.loc[data_df[\"Gender\"]==\"Male\",columns]\n",
    "Male_Purchase_Average = Male_Purchase_Price[\"Price\"].mean()"
   ]
  },
  {
   "cell_type": "code",
   "execution_count": 26,
   "metadata": {},
   "outputs": [],
   "source": [
    "columns = [\"Gender\",\"Price\"]\n",
    "Other_Purchase_Price = data_df.loc[(data_df[\"Gender\"]!=\"Female\") & (data_df[\"Gender\"]!= \"Male\"),columns]\n",
    "Other_Purchase_Average = Other_Purchase_Price[\"Price\"].mean()"
   ]
  },
  {
   "cell_type": "code",
   "execution_count": 27,
   "metadata": {},
   "outputs": [],
   "source": [
    "Total_Female_Purchase = Female_Purchase_count * Female_Purchase_Average"
   ]
  },
  {
   "cell_type": "code",
   "execution_count": 28,
   "metadata": {},
   "outputs": [],
   "source": [
    "Total_Male_Purchase = Male_Purchase_count * Male_Purchase_Average"
   ]
  },
  {
   "cell_type": "code",
   "execution_count": 29,
   "metadata": {},
   "outputs": [],
   "source": [
    "Total_Other_Purchase = Other_Purchase_count * Other_Purchase_Average"
   ]
  },
  {
   "cell_type": "code",
   "execution_count": 30,
   "metadata": {},
   "outputs": [],
   "source": [
    "ATP_Per_Female = Total_Female_Purchase / Total_Female_Number"
   ]
  },
  {
   "cell_type": "code",
   "execution_count": 31,
   "metadata": {},
   "outputs": [],
   "source": [
    "ATP_Per_Male = Total_Male_Purchase / Total_Male_Number"
   ]
  },
  {
   "cell_type": "code",
   "execution_count": 32,
   "metadata": {},
   "outputs": [],
   "source": [
    "ATP_Per_Other = Total_Other_Purchase / Other_Players_Number"
   ]
  },
  {
   "cell_type": "code",
   "execution_count": 33,
   "metadata": {},
   "outputs": [],
   "source": [
    "Purchase_Analysis_dicts = {'Purchase Count':[Female_Purchase_count,Male_Purchase_count,Other_Purchase_count],'Average Purchase Price':[Female_Purchase_Average,Male_Purchase_Average,Other_Purchase_Average],'Total Purchase Value':[Total_Female_Purchase,Total_Male_Purchase,Total_Other_Purchase],'Avg Total Purchase Per Person':[ATP_Per_Female,ATP_Per_Male,ATP_Per_Other]} "
   ]
  },
  {
   "cell_type": "code",
   "execution_count": 34,
   "metadata": {},
   "outputs": [
    {
     "data": {
      "text/html": [
       "<div>\n",
       "<style scoped>\n",
       "    .dataframe tbody tr th:only-of-type {\n",
       "        vertical-align: middle;\n",
       "    }\n",
       "\n",
       "    .dataframe tbody tr th {\n",
       "        vertical-align: top;\n",
       "    }\n",
       "\n",
       "    .dataframe thead th {\n",
       "        text-align: right;\n",
       "    }\n",
       "</style>\n",
       "<table border=\"1\" class=\"dataframe\">\n",
       "  <thead>\n",
       "    <tr style=\"text-align: right;\">\n",
       "      <th></th>\n",
       "      <th>Purchase Count</th>\n",
       "      <th>Average Purchase Price</th>\n",
       "      <th>Total Purchase Value</th>\n",
       "      <th>Avg Total Purchase Per Person</th>\n",
       "    </tr>\n",
       "  </thead>\n",
       "  <tbody>\n",
       "    <tr>\n",
       "      <th>Female</th>\n",
       "      <td>113</td>\n",
       "      <td>$3.20</td>\n",
       "      <td>$361.94</td>\n",
       "      <td>$4.47</td>\n",
       "    </tr>\n",
       "    <tr>\n",
       "      <th>Male</th>\n",
       "      <td>652</td>\n",
       "      <td>$3.02</td>\n",
       "      <td>$1,967.64</td>\n",
       "      <td>$4.07</td>\n",
       "    </tr>\n",
       "    <tr>\n",
       "      <th>Other/Non-disclosed</th>\n",
       "      <td>15</td>\n",
       "      <td>$3.35</td>\n",
       "      <td>$50.19</td>\n",
       "      <td>$4.56</td>\n",
       "    </tr>\n",
       "  </tbody>\n",
       "</table>\n",
       "</div>"
      ],
      "text/plain": [
       "                     Purchase Count Average Purchase Price  \\\n",
       "Female                          113                  $3.20   \n",
       "Male                            652                  $3.02   \n",
       "Other/Non-disclosed              15                  $3.35   \n",
       "\n",
       "                    Total Purchase Value Avg Total Purchase Per Person  \n",
       "Female                           $361.94                         $4.47  \n",
       "Male                           $1,967.64                         $4.07  \n",
       "Other/Non-disclosed               $50.19                         $4.56  "
      ]
     },
     "execution_count": 34,
     "metadata": {},
     "output_type": "execute_result"
    }
   ],
   "source": [
    "Purchase_Analysis_df = pd.DataFrame(Purchase_Analysis_dicts,index = ['Female','Male','Other/Non-disclosed'])\n",
    "Purchase_Analysis_df[\"Average Purchase Price\"] = Purchase_Analysis_df[\"Average Purchase Price\"].map(\"${:,.2f}\".format)\n",
    "Purchase_Analysis_df[\"Total Purchase Value\"] = Purchase_Analysis_df[\"Total Purchase Value\"].map(\"${:,.2f}\".format)\n",
    "Purchase_Analysis_df[\"Avg Total Purchase Per Person\"] = Purchase_Analysis_df[\"Avg Total Purchase Per Person\"].map(\"${:,.2f}\".format)\n",
    "Purchase_Analysis_df"
   ]
  },
  {
   "cell_type": "markdown",
   "metadata": {},
   "source": [
    "\n",
    "Age Demographics\n",
    " \n",
    "Establish bins for ages\n",
    "\n",
    "\n",
    "Categorize the existing players using the age bins. Hint: use pd.cut()\n",
    "\n",
    "\n",
    "Calculate the numbers and percentages by age group\n",
    "\n",
    "\n",
    "Create a summary data frame to hold the results\n",
    "\n",
    "\n",
    "Optional: round the percentage column to two decimal points\n",
    "\n",
    "\n",
    "Display Age Demographics Table"
   ]
  },
  {
   "cell_type": "code",
   "execution_count": 35,
   "metadata": {},
   "outputs": [],
   "source": [
    "Unique_df = data_df.drop_duplicates(\"SN\")"
   ]
  },
  {
   "cell_type": "code",
   "execution_count": 36,
   "metadata": {},
   "outputs": [],
   "source": [
    "bins = [0,9,14,19,24,29,34,39,100]\n",
    "group_names = [\"<10\",\"10-14\",\"15-19\",\"20-24\",\"25-29\",\"30-34\",\"35-39\",\"40+\"]"
   ]
  },
  {
   "cell_type": "code",
   "execution_count": 37,
   "metadata": {},
   "outputs": [
    {
     "name": "stderr",
     "output_type": "stream",
     "text": [
      "/opt/anaconda3/envs/pythondata/lib/python3.6/site-packages/ipykernel_launcher.py:1: SettingWithCopyWarning: \n",
      "A value is trying to be set on a copy of a slice from a DataFrame.\n",
      "Try using .loc[row_indexer,col_indexer] = value instead\n",
      "\n",
      "See the caveats in the documentation: https://pandas.pydata.org/pandas-docs/stable/user_guide/indexing.html#returning-a-view-versus-a-copy\n",
      "  \"\"\"Entry point for launching an IPython kernel.\n"
     ]
    }
   ],
   "source": [
    "Unique_df[\"Age_Range\"] = pd.cut(Unique_df[\"Age\"],bins,labels=group_names,include_lowest=True)"
   ]
  },
  {
   "cell_type": "code",
   "execution_count": 38,
   "metadata": {},
   "outputs": [],
   "source": [
    "Age_Count = Unique_df.groupby(\"Age_Range\")['Age'].count()"
   ]
  },
  {
   "cell_type": "code",
   "execution_count": 39,
   "metadata": {},
   "outputs": [],
   "source": [
    "Total_Age_Count = (Age_Count).sum()"
   ]
  },
  {
   "cell_type": "code",
   "execution_count": 40,
   "metadata": {},
   "outputs": [],
   "source": [
    "Percentage_Age = Age_Count / Total_Age_Count"
   ]
  },
  {
   "cell_type": "code",
   "execution_count": 41,
   "metadata": {},
   "outputs": [],
   "source": [
    "Age_Demographics_dicts =({'Total Count':Age_Count,'Percentage of Players':Percentage_Age})"
   ]
  },
  {
   "cell_type": "code",
   "execution_count": 43,
   "metadata": {},
   "outputs": [
    {
     "data": {
      "text/html": [
       "<div>\n",
       "<style scoped>\n",
       "    .dataframe tbody tr th:only-of-type {\n",
       "        vertical-align: middle;\n",
       "    }\n",
       "\n",
       "    .dataframe tbody tr th {\n",
       "        vertical-align: top;\n",
       "    }\n",
       "\n",
       "    .dataframe thead th {\n",
       "        text-align: right;\n",
       "    }\n",
       "</style>\n",
       "<table border=\"1\" class=\"dataframe\">\n",
       "  <thead>\n",
       "    <tr style=\"text-align: right;\">\n",
       "      <th></th>\n",
       "      <th>Total Count</th>\n",
       "      <th>Percentage of Players</th>\n",
       "    </tr>\n",
       "  </thead>\n",
       "  <tbody>\n",
       "    <tr>\n",
       "      <th>&lt;10</th>\n",
       "      <td>17</td>\n",
       "      <td>2.95%</td>\n",
       "    </tr>\n",
       "    <tr>\n",
       "      <th>10-14</th>\n",
       "      <td>22</td>\n",
       "      <td>3.82%</td>\n",
       "    </tr>\n",
       "    <tr>\n",
       "      <th>15-19</th>\n",
       "      <td>107</td>\n",
       "      <td>18.58%</td>\n",
       "    </tr>\n",
       "    <tr>\n",
       "      <th>20-24</th>\n",
       "      <td>258</td>\n",
       "      <td>44.79%</td>\n",
       "    </tr>\n",
       "    <tr>\n",
       "      <th>25-29</th>\n",
       "      <td>77</td>\n",
       "      <td>13.37%</td>\n",
       "    </tr>\n",
       "    <tr>\n",
       "      <th>30-34</th>\n",
       "      <td>52</td>\n",
       "      <td>9.03%</td>\n",
       "    </tr>\n",
       "    <tr>\n",
       "      <th>35-39</th>\n",
       "      <td>31</td>\n",
       "      <td>5.38%</td>\n",
       "    </tr>\n",
       "    <tr>\n",
       "      <th>40+</th>\n",
       "      <td>12</td>\n",
       "      <td>2.08%</td>\n",
       "    </tr>\n",
       "  </tbody>\n",
       "</table>\n",
       "</div>"
      ],
      "text/plain": [
       "       Total Count Percentage of Players\n",
       "<10             17                 2.95%\n",
       "10-14           22                 3.82%\n",
       "15-19          107                18.58%\n",
       "20-24          258                44.79%\n",
       "25-29           77                13.37%\n",
       "30-34           52                 9.03%\n",
       "35-39           31                 5.38%\n",
       "40+             12                 2.08%"
      ]
     },
     "execution_count": 43,
     "metadata": {},
     "output_type": "execute_result"
    }
   ],
   "source": [
    "Age_Demographics_df = pd.DataFrame(Age_Demographics_dicts,index = ['<10','10-14','15-19','20-24','25-29','30-34','35-39','40+'])\n",
    "Age_Demographics_df[\"Percentage of Players\"] = Age_Demographics_df[\"Percentage of Players\"].map(\"{:,.2%}\".format)\n",
    "Age_Demographics_df"
   ]
  },
  {
   "cell_type": "markdown",
   "metadata": {},
   "source": [
    "Purchasing Analysis (Age)\n",
    " \n",
    "Bin the purchase_data data frame by age\n",
    "\n",
    "\n",
    "Run basic calculations to obtain purchase count, avg. purchase price, avg. purchase total per person etc. in the table below\n",
    "\n",
    "\n",
    "Create a summary data frame to hold the results\n",
    "\n",
    "\n",
    "Optional: give the displayed data cleaner formatting\n",
    "\n",
    "\n",
    "Display the summary data frame"
   ]
  },
  {
   "cell_type": "code",
   "execution_count": 44,
   "metadata": {},
   "outputs": [],
   "source": [
    "data_df[\"Age_Purchase_Range\"] = pd.cut(data_df[\"Age\"],bins,labels=group_names,include_lowest=True)\n",
    "Age_Purchase_Count = data_df.groupby(\"Age_Purchase_Range\")['Age'].count()"
   ]
  },
  {
   "cell_type": "code",
   "execution_count": 45,
   "metadata": {},
   "outputs": [],
   "source": [
    "data_df[\"Age_Range\"] = pd.cut(data_df[\"Age\"],bins,labels=group_names,include_lowest=True)\n",
    "Age_Group_Price = data_df.groupby(\"Age_Range\")\n",
    "Average_Purchase_Price = Age_Group_Price[\"Price\"].mean()"
   ]
  },
  {
   "cell_type": "code",
   "execution_count": 46,
   "metadata": {},
   "outputs": [],
   "source": [
    "Total_Purchase_Value = Average_Purchase_Price * Age_Purchase_Count"
   ]
  },
  {
   "cell_type": "code",
   "execution_count": 47,
   "metadata": {},
   "outputs": [],
   "source": [
    "ATP_Per_Person = Total_Purchase_Value / Age_Count"
   ]
  },
  {
   "cell_type": "code",
   "execution_count": 48,
   "metadata": {},
   "outputs": [],
   "source": [
    "Purchasing_Analysis_dicts = ({'Purchase Count':Age_Purchase_Count,'Average Purchase Price':Average_Purchase_Price,'Total Purchase Value':Total_Purchase_Value,'Avg Total Purchase per Person':ATP_Per_Person})"
   ]
  },
  {
   "cell_type": "code",
   "execution_count": 49,
   "metadata": {},
   "outputs": [],
   "source": [
    "Purchasing_Analysis_df = pd.DataFrame(Purchasing_Analysis_dicts,index = ['<10','10-14','15-19','20-24','25-29','30-34','35-39','40+'])"
   ]
  },
  {
   "cell_type": "code",
   "execution_count": 50,
   "metadata": {},
   "outputs": [
    {
     "data": {
      "text/html": [
       "<div>\n",
       "<style scoped>\n",
       "    .dataframe tbody tr th:only-of-type {\n",
       "        vertical-align: middle;\n",
       "    }\n",
       "\n",
       "    .dataframe tbody tr th {\n",
       "        vertical-align: top;\n",
       "    }\n",
       "\n",
       "    .dataframe thead th {\n",
       "        text-align: right;\n",
       "    }\n",
       "</style>\n",
       "<table border=\"1\" class=\"dataframe\">\n",
       "  <thead>\n",
       "    <tr style=\"text-align: right;\">\n",
       "      <th></th>\n",
       "      <th>Purchase Count</th>\n",
       "      <th>Average Purchase Price</th>\n",
       "      <th>Total Purchase Value</th>\n",
       "      <th>Avg Total Purchase per Person</th>\n",
       "    </tr>\n",
       "  </thead>\n",
       "  <tbody>\n",
       "    <tr>\n",
       "      <th>&lt;10</th>\n",
       "      <td>23</td>\n",
       "      <td>$3.35</td>\n",
       "      <td>$77.13</td>\n",
       "      <td>$4.54</td>\n",
       "    </tr>\n",
       "    <tr>\n",
       "      <th>10-14</th>\n",
       "      <td>28</td>\n",
       "      <td>$2.96</td>\n",
       "      <td>$82.78</td>\n",
       "      <td>$3.76</td>\n",
       "    </tr>\n",
       "    <tr>\n",
       "      <th>15-19</th>\n",
       "      <td>136</td>\n",
       "      <td>$3.04</td>\n",
       "      <td>$412.89</td>\n",
       "      <td>$3.86</td>\n",
       "    </tr>\n",
       "    <tr>\n",
       "      <th>20-24</th>\n",
       "      <td>365</td>\n",
       "      <td>$3.05</td>\n",
       "      <td>$1,114.06</td>\n",
       "      <td>$4.32</td>\n",
       "    </tr>\n",
       "    <tr>\n",
       "      <th>25-29</th>\n",
       "      <td>101</td>\n",
       "      <td>$2.90</td>\n",
       "      <td>$293.00</td>\n",
       "      <td>$3.81</td>\n",
       "    </tr>\n",
       "    <tr>\n",
       "      <th>30-34</th>\n",
       "      <td>73</td>\n",
       "      <td>$2.93</td>\n",
       "      <td>$214.00</td>\n",
       "      <td>$4.12</td>\n",
       "    </tr>\n",
       "    <tr>\n",
       "      <th>35-39</th>\n",
       "      <td>41</td>\n",
       "      <td>$3.60</td>\n",
       "      <td>$147.67</td>\n",
       "      <td>$4.76</td>\n",
       "    </tr>\n",
       "    <tr>\n",
       "      <th>40+</th>\n",
       "      <td>13</td>\n",
       "      <td>$2.94</td>\n",
       "      <td>$38.24</td>\n",
       "      <td>$3.19</td>\n",
       "    </tr>\n",
       "  </tbody>\n",
       "</table>\n",
       "</div>"
      ],
      "text/plain": [
       "       Purchase Count Average Purchase Price Total Purchase Value  \\\n",
       "<10                23                  $3.35               $77.13   \n",
       "10-14              28                  $2.96               $82.78   \n",
       "15-19             136                  $3.04              $412.89   \n",
       "20-24             365                  $3.05            $1,114.06   \n",
       "25-29             101                  $2.90              $293.00   \n",
       "30-34              73                  $2.93              $214.00   \n",
       "35-39              41                  $3.60              $147.67   \n",
       "40+                13                  $2.94               $38.24   \n",
       "\n",
       "      Avg Total Purchase per Person  \n",
       "<10                           $4.54  \n",
       "10-14                         $3.76  \n",
       "15-19                         $3.86  \n",
       "20-24                         $4.32  \n",
       "25-29                         $3.81  \n",
       "30-34                         $4.12  \n",
       "35-39                         $4.76  \n",
       "40+                           $3.19  "
      ]
     },
     "execution_count": 50,
     "metadata": {},
     "output_type": "execute_result"
    }
   ],
   "source": [
    "Purchasing_Analysis_df[\"Average Purchase Price\"] = Purchasing_Analysis_df[\"Average Purchase Price\"].map(\"${:,.2f}\".format)\n",
    "Purchasing_Analysis_df[\"Total Purchase Value\"] = Purchasing_Analysis_df[\"Total Purchase Value\"].map(\"${:,.2f}\".format)\n",
    "Purchasing_Analysis_df[\"Avg Total Purchase per Person\"] = Purchasing_Analysis_df[\"Avg Total Purchase per Person\"].map(\"${:,.2f}\".format)\n",
    "Purchasing_Analysis_df"
   ]
  },
  {
   "cell_type": "markdown",
   "metadata": {},
   "source": [
    "Top Spenders\n",
    " \n",
    "Run basic calculations to obtain the results in the table below\n",
    "\n",
    "\n",
    "Create a summary data frame to hold the results\n",
    "\n",
    "\n",
    "Sort the total purchase value column in descending order\n",
    "\n",
    "\n",
    "Optional: give the displayed data cleaner formatting\n",
    "\n",
    "\n",
    "Display a preview of the summary data frame"
   ]
  },
  {
   "cell_type": "code",
   "execution_count": 51,
   "metadata": {},
   "outputs": [],
   "source": [
    "Top_Spenders = data_df.loc[(data_df[\"SN\"]==\"Lisosia93\")|(data_df[\"SN\"]==\"Idastidru52\")|(data_df[\"SN\"]==\"Chamjask73\")|(data_df[\"SN\"]==\"Iral74\")|(data_df[\"SN\"]==\"Iskadarya95\"),:]"
   ]
  },
  {
   "cell_type": "code",
   "execution_count": 52,
   "metadata": {},
   "outputs": [],
   "source": [
    "Purchase_Count = Top_Spenders[\"SN\"].value_counts()"
   ]
  },
  {
   "cell_type": "code",
   "execution_count": 53,
   "metadata": {},
   "outputs": [],
   "source": [
    "Average_Purchase_Price = Top_Spenders.groupby(\"SN\")[\"Price\"].mean()"
   ]
  },
  {
   "cell_type": "code",
   "execution_count": 54,
   "metadata": {},
   "outputs": [],
   "source": [
    "Total_Purchase_Price = Purchase_Count*Average_Purchase_Price"
   ]
  },
  {
   "cell_type": "code",
   "execution_count": 55,
   "metadata": {},
   "outputs": [],
   "source": [
    "Top_Spenders_dicts = ({'Purchase Count':Purchase_Count,'Average Purchase Price':Average_Purchase_Price,'Total Purchase Price':Total_Purchase_Price})"
   ]
  },
  {
   "cell_type": "code",
   "execution_count": 56,
   "metadata": {},
   "outputs": [
    {
     "data": {
      "text/html": [
       "<div>\n",
       "<style scoped>\n",
       "    .dataframe tbody tr th:only-of-type {\n",
       "        vertical-align: middle;\n",
       "    }\n",
       "\n",
       "    .dataframe tbody tr th {\n",
       "        vertical-align: top;\n",
       "    }\n",
       "\n",
       "    .dataframe thead th {\n",
       "        text-align: right;\n",
       "    }\n",
       "</style>\n",
       "<table border=\"1\" class=\"dataframe\">\n",
       "  <thead>\n",
       "    <tr style=\"text-align: right;\">\n",
       "      <th></th>\n",
       "      <th>Purchase Count</th>\n",
       "      <th>Average Purchase Price</th>\n",
       "      <th>Total Purchase Price</th>\n",
       "    </tr>\n",
       "  </thead>\n",
       "  <tbody>\n",
       "    <tr>\n",
       "      <th>Chamjask73</th>\n",
       "      <td>3</td>\n",
       "      <td>$4.61</td>\n",
       "      <td>$13.83</td>\n",
       "    </tr>\n",
       "    <tr>\n",
       "      <th>Idastidru52</th>\n",
       "      <td>4</td>\n",
       "      <td>$3.86</td>\n",
       "      <td>$15.45</td>\n",
       "    </tr>\n",
       "    <tr>\n",
       "      <th>Iral74</th>\n",
       "      <td>4</td>\n",
       "      <td>$3.40</td>\n",
       "      <td>$13.62</td>\n",
       "    </tr>\n",
       "    <tr>\n",
       "      <th>Iskadarya95</th>\n",
       "      <td>3</td>\n",
       "      <td>$4.37</td>\n",
       "      <td>$13.10</td>\n",
       "    </tr>\n",
       "    <tr>\n",
       "      <th>Lisosia93</th>\n",
       "      <td>5</td>\n",
       "      <td>$3.79</td>\n",
       "      <td>$18.96</td>\n",
       "    </tr>\n",
       "  </tbody>\n",
       "</table>\n",
       "</div>"
      ],
      "text/plain": [
       "             Purchase Count Average Purchase Price Total Purchase Price\n",
       "Chamjask73                3                  $4.61               $13.83\n",
       "Idastidru52               4                  $3.86               $15.45\n",
       "Iral74                    4                  $3.40               $13.62\n",
       "Iskadarya95               3                  $4.37               $13.10\n",
       "Lisosia93                 5                  $3.79               $18.96"
      ]
     },
     "execution_count": 56,
     "metadata": {},
     "output_type": "execute_result"
    }
   ],
   "source": [
    "Top_Spenders_df = pd.DataFrame(Top_Spenders_dicts,index = ['Chamjask73','Idastidru52','Iral74','Iskadarya95','Lisosia93'])\n",
    "Top_Spenders_df[\"Average Purchase Price\"] = Top_Spenders_df[\"Average Purchase Price\"].map(\"${:,.2f}\".format)\n",
    "Top_Spenders_df[\"Total Purchase Price\"] = Top_Spenders_df[\"Total Purchase Price\"].map(\"${:,.2f}\".format)\n",
    "Top_Spenders_df"
   ]
  },
  {
   "cell_type": "markdown",
   "metadata": {},
   "source": [
    "Most Popular Items\n",
    " \n",
    "Retrieve the Item ID, Item Name, and Item Price columns\n",
    "\n",
    "\n",
    "Group by Item ID and Item Name. Perform calculations to obtain purchase count, item price, and total purchase value\n",
    "\n",
    "\n",
    "Create a summary data frame to hold the results\n",
    "\n",
    "\n",
    "Sort the purchase count column in descending order\n",
    "\n",
    "\n",
    "Optional: give the displayed data cleaner formatting\n",
    "\n",
    "\n",
    "Display a preview of the summary data frame"
   ]
  },
  {
   "cell_type": "code",
   "execution_count": 57,
   "metadata": {},
   "outputs": [],
   "source": [
    "Item_Info = data_df.loc[:,[\"Item ID\",\"Item Name\",\"Price\"]]\n",
    "Item_Info = Item_Info.groupby([\"Item ID\",\"Item Name\",\"Price\"])\n",
    "Purchase_Count = Item_Info[\"Price\"].count()\n",
    "Item_Price = Item_Info[\"Price\"]\n",
    "Total_Purchase_Value = Item_Info[\"Price\"].sum()"
   ]
  },
  {
   "cell_type": "code",
   "execution_count": 58,
   "metadata": {},
   "outputs": [
    {
     "data": {
      "text/html": [
       "<div>\n",
       "<style scoped>\n",
       "    .dataframe tbody tr th:only-of-type {\n",
       "        vertical-align: middle;\n",
       "    }\n",
       "\n",
       "    .dataframe tbody tr th {\n",
       "        vertical-align: top;\n",
       "    }\n",
       "\n",
       "    .dataframe thead th {\n",
       "        text-align: right;\n",
       "    }\n",
       "</style>\n",
       "<table border=\"1\" class=\"dataframe\">\n",
       "  <thead>\n",
       "    <tr style=\"text-align: right;\">\n",
       "      <th></th>\n",
       "      <th></th>\n",
       "      <th></th>\n",
       "      <th>Purchase Count</th>\n",
       "      <th>Item Price</th>\n",
       "      <th>Total Purchase Value</th>\n",
       "    </tr>\n",
       "    <tr>\n",
       "      <th>Item ID</th>\n",
       "      <th>Item Name</th>\n",
       "      <th>Price</th>\n",
       "      <th></th>\n",
       "      <th></th>\n",
       "      <th></th>\n",
       "    </tr>\n",
       "  </thead>\n",
       "  <tbody>\n",
       "    <tr>\n",
       "      <th>0</th>\n",
       "      <th>Splinter</th>\n",
       "      <th>1.28</th>\n",
       "      <td>4</td>\n",
       "      <td>((0, Splinter, 1.28), [1.28, 1.28, 1.28, 1.28])</td>\n",
       "      <td>$5.12</td>\n",
       "    </tr>\n",
       "    <tr>\n",
       "      <th rowspan=\"2\" valign=\"top\">1</th>\n",
       "      <th rowspan=\"2\" valign=\"top\">Crucifer</th>\n",
       "      <th>1.99</th>\n",
       "      <td>1</td>\n",
       "      <td>((1, Crucifer, 1.99), [1.99])</td>\n",
       "      <td>$1.99</td>\n",
       "    </tr>\n",
       "    <tr>\n",
       "      <th>3.26</th>\n",
       "      <td>3</td>\n",
       "      <td>((1, Crucifer, 3.26), [3.26, 3.26, 3.26])</td>\n",
       "      <td>$9.78</td>\n",
       "    </tr>\n",
       "    <tr>\n",
       "      <th>2</th>\n",
       "      <th>Verdict</th>\n",
       "      <th>2.48</th>\n",
       "      <td>6</td>\n",
       "      <td>((2, Verdict, 2.48), [2.48, 2.48, 2.48, 2.48, ...</td>\n",
       "      <td>$14.88</td>\n",
       "    </tr>\n",
       "    <tr>\n",
       "      <th>3</th>\n",
       "      <th>Phantomlight</th>\n",
       "      <th>2.49</th>\n",
       "      <td>6</td>\n",
       "      <td>((3, Phantomlight, 2.49), [2.49, 2.49, 2.49, 2...</td>\n",
       "      <td>$14.94</td>\n",
       "    </tr>\n",
       "    <tr>\n",
       "      <th>...</th>\n",
       "      <th>...</th>\n",
       "      <th>...</th>\n",
       "      <td>...</td>\n",
       "      <td>...</td>\n",
       "      <td>...</td>\n",
       "    </tr>\n",
       "    <tr>\n",
       "      <th>178</th>\n",
       "      <th>Oathbreaker, Last Hope of the Breaking Storm</th>\n",
       "      <th>4.23</th>\n",
       "      <td>12</td>\n",
       "      <td>((178, Oathbreaker, Last Hope of the Breaking ...</td>\n",
       "      <td>$50.76</td>\n",
       "    </tr>\n",
       "    <tr>\n",
       "      <th>179</th>\n",
       "      <th>Wolf, Promise of the Moonwalker</th>\n",
       "      <th>4.48</th>\n",
       "      <td>6</td>\n",
       "      <td>((179, Wolf, Promise of the Moonwalker, 4.48),...</td>\n",
       "      <td>$26.88</td>\n",
       "    </tr>\n",
       "    <tr>\n",
       "      <th>181</th>\n",
       "      <th>Reaper's Toll</th>\n",
       "      <th>1.66</th>\n",
       "      <td>5</td>\n",
       "      <td>((181, Reaper's Toll, 1.66), [1.66, 1.66, 1.66...</td>\n",
       "      <td>$8.30</td>\n",
       "    </tr>\n",
       "    <tr>\n",
       "      <th>182</th>\n",
       "      <th>Toothpick</th>\n",
       "      <th>4.03</th>\n",
       "      <td>3</td>\n",
       "      <td>((182, Toothpick, 4.03), [4.03, 4.03, 4.03])</td>\n",
       "      <td>$12.09</td>\n",
       "    </tr>\n",
       "    <tr>\n",
       "      <th>183</th>\n",
       "      <th>Dragon's Greatsword</th>\n",
       "      <th>1.09</th>\n",
       "      <td>3</td>\n",
       "      <td>((183, Dragon's Greatsword, 1.09), [1.09, 1.09...</td>\n",
       "      <td>$3.27</td>\n",
       "    </tr>\n",
       "  </tbody>\n",
       "</table>\n",
       "<p>183 rows × 3 columns</p>\n",
       "</div>"
      ],
      "text/plain": [
       "                                                            Purchase Count  \\\n",
       "Item ID Item Name                                    Price                   \n",
       "0       Splinter                                     1.28                4   \n",
       "1       Crucifer                                     1.99                1   \n",
       "                                                     3.26                3   \n",
       "2       Verdict                                      2.48                6   \n",
       "3       Phantomlight                                 2.49                6   \n",
       "...                                                                    ...   \n",
       "178     Oathbreaker, Last Hope of the Breaking Storm 4.23               12   \n",
       "179     Wolf, Promise of the Moonwalker              4.48                6   \n",
       "181     Reaper's Toll                                1.66                5   \n",
       "182     Toothpick                                    4.03                3   \n",
       "183     Dragon's Greatsword                          1.09                3   \n",
       "\n",
       "                                                                                                   Item Price  \\\n",
       "Item ID Item Name                                    Price                                                      \n",
       "0       Splinter                                     1.28     ((0, Splinter, 1.28), [1.28, 1.28, 1.28, 1.28])   \n",
       "1       Crucifer                                     1.99                       ((1, Crucifer, 1.99), [1.99])   \n",
       "                                                     3.26           ((1, Crucifer, 3.26), [3.26, 3.26, 3.26])   \n",
       "2       Verdict                                      2.48   ((2, Verdict, 2.48), [2.48, 2.48, 2.48, 2.48, ...   \n",
       "3       Phantomlight                                 2.49   ((3, Phantomlight, 2.49), [2.49, 2.49, 2.49, 2...   \n",
       "...                                                                                                       ...   \n",
       "178     Oathbreaker, Last Hope of the Breaking Storm 4.23   ((178, Oathbreaker, Last Hope of the Breaking ...   \n",
       "179     Wolf, Promise of the Moonwalker              4.48   ((179, Wolf, Promise of the Moonwalker, 4.48),...   \n",
       "181     Reaper's Toll                                1.66   ((181, Reaper's Toll, 1.66), [1.66, 1.66, 1.66...   \n",
       "182     Toothpick                                    4.03        ((182, Toothpick, 4.03), [4.03, 4.03, 4.03])   \n",
       "183     Dragon's Greatsword                          1.09   ((183, Dragon's Greatsword, 1.09), [1.09, 1.09...   \n",
       "\n",
       "                                                           Total Purchase Value  \n",
       "Item ID Item Name                                    Price                       \n",
       "0       Splinter                                     1.28                 $5.12  \n",
       "1       Crucifer                                     1.99                 $1.99  \n",
       "                                                     3.26                 $9.78  \n",
       "2       Verdict                                      2.48                $14.88  \n",
       "3       Phantomlight                                 2.49                $14.94  \n",
       "...                                                                         ...  \n",
       "178     Oathbreaker, Last Hope of the Breaking Storm 4.23                $50.76  \n",
       "179     Wolf, Promise of the Moonwalker              4.48                $26.88  \n",
       "181     Reaper's Toll                                1.66                 $8.30  \n",
       "182     Toothpick                                    4.03                $12.09  \n",
       "183     Dragon's Greatsword                          1.09                 $3.27  \n",
       "\n",
       "[183 rows x 3 columns]"
      ]
     },
     "execution_count": 58,
     "metadata": {},
     "output_type": "execute_result"
    }
   ],
   "source": [
    "Most_Popular_Item_df = pd.DataFrame({'Purchase Count':Purchase_Count,'Item Price':Item_Price,'Total Purchase Value':Total_Purchase_Value})\n",
    "Most_Popular_Item_df[\"Total Purchase Value\"] = Most_Popular_Item_df[\"Total Purchase Value\"].map(\"${:,.2f}\".format)\n",
    "Most_Popular_Item_df"
   ]
  },
  {
   "cell_type": "code",
   "execution_count": 59,
   "metadata": {},
   "outputs": [
    {
     "data": {
      "text/html": [
       "<div>\n",
       "<style scoped>\n",
       "    .dataframe tbody tr th:only-of-type {\n",
       "        vertical-align: middle;\n",
       "    }\n",
       "\n",
       "    .dataframe tbody tr th {\n",
       "        vertical-align: top;\n",
       "    }\n",
       "\n",
       "    .dataframe thead th {\n",
       "        text-align: right;\n",
       "    }\n",
       "</style>\n",
       "<table border=\"1\" class=\"dataframe\">\n",
       "  <thead>\n",
       "    <tr style=\"text-align: right;\">\n",
       "      <th></th>\n",
       "      <th></th>\n",
       "      <th></th>\n",
       "      <th>Purchase Count</th>\n",
       "      <th>Item Price</th>\n",
       "      <th>Total Purchase Value</th>\n",
       "    </tr>\n",
       "    <tr>\n",
       "      <th>Item ID</th>\n",
       "      <th>Item Name</th>\n",
       "      <th>Price</th>\n",
       "      <th></th>\n",
       "      <th></th>\n",
       "      <th></th>\n",
       "    </tr>\n",
       "  </thead>\n",
       "  <tbody>\n",
       "    <tr>\n",
       "      <th>178</th>\n",
       "      <th>Oathbreaker, Last Hope of the Breaking Storm</th>\n",
       "      <th>4.23</th>\n",
       "      <td>12</td>\n",
       "      <td>((178, Oathbreaker, Last Hope of the Breaking ...</td>\n",
       "      <td>$50.76</td>\n",
       "    </tr>\n",
       "    <tr>\n",
       "      <th>108</th>\n",
       "      <th>Extraction, Quickblade Of Trembling Hands</th>\n",
       "      <th>3.53</th>\n",
       "      <td>9</td>\n",
       "      <td>((108, Extraction, Quickblade Of Trembling Han...</td>\n",
       "      <td>$31.77</td>\n",
       "    </tr>\n",
       "    <tr>\n",
       "      <th>145</th>\n",
       "      <th>Fiery Glass Crusader</th>\n",
       "      <th>4.58</th>\n",
       "      <td>9</td>\n",
       "      <td>((145, Fiery Glass Crusader, 4.58), [4.58, 4.5...</td>\n",
       "      <td>$41.22</td>\n",
       "    </tr>\n",
       "    <tr>\n",
       "      <th>82</th>\n",
       "      <th>Nirvana</th>\n",
       "      <th>4.90</th>\n",
       "      <td>9</td>\n",
       "      <td>((82, Nirvana, 4.9), [4.9, 4.9, 4.9, 4.9, 4.9,...</td>\n",
       "      <td>$44.10</td>\n",
       "    </tr>\n",
       "    <tr>\n",
       "      <th>37</th>\n",
       "      <th>Shadow Strike, Glory of Ending Hope</th>\n",
       "      <th>3.16</th>\n",
       "      <td>8</td>\n",
       "      <td>((37, Shadow Strike, Glory of Ending Hope, 3.1...</td>\n",
       "      <td>$25.28</td>\n",
       "    </tr>\n",
       "    <tr>\n",
       "      <th>...</th>\n",
       "      <th>...</th>\n",
       "      <th>...</th>\n",
       "      <td>...</td>\n",
       "      <td>...</td>\n",
       "      <td>...</td>\n",
       "    </tr>\n",
       "    <tr>\n",
       "      <th>27</th>\n",
       "      <th>Riddle, Tribute of Ended Dreams</th>\n",
       "      <th>3.30</th>\n",
       "      <td>1</td>\n",
       "      <td>((27, Riddle, Tribute of Ended Dreams, 3.3), [...</td>\n",
       "      <td>$3.30</td>\n",
       "    </tr>\n",
       "    <tr>\n",
       "      <th>30</th>\n",
       "      <th>Stormcaller</th>\n",
       "      <th>3.36</th>\n",
       "      <td>1</td>\n",
       "      <td>((30, Stormcaller, 3.36), [3.36])</td>\n",
       "      <td>$3.36</td>\n",
       "    </tr>\n",
       "    <tr>\n",
       "      <th>126</th>\n",
       "      <th>Exiled Mithril Longsword</th>\n",
       "      <th>2.00</th>\n",
       "      <td>1</td>\n",
       "      <td>((126, Exiled Mithril Longsword, 2.0), [2.0])</td>\n",
       "      <td>$2.00</td>\n",
       "    </tr>\n",
       "    <tr>\n",
       "      <th>51</th>\n",
       "      <th>Endbringer</th>\n",
       "      <th>4.66</th>\n",
       "      <td>1</td>\n",
       "      <td>((51, Endbringer, 4.66), [4.66])</td>\n",
       "      <td>$4.66</td>\n",
       "    </tr>\n",
       "    <tr>\n",
       "      <th>91</th>\n",
       "      <th>Celeste</th>\n",
       "      <th>4.17</th>\n",
       "      <td>1</td>\n",
       "      <td>((91, Celeste, 4.17), [4.17])</td>\n",
       "      <td>$4.17</td>\n",
       "    </tr>\n",
       "  </tbody>\n",
       "</table>\n",
       "<p>183 rows × 3 columns</p>\n",
       "</div>"
      ],
      "text/plain": [
       "                                                            Purchase Count  \\\n",
       "Item ID Item Name                                    Price                   \n",
       "178     Oathbreaker, Last Hope of the Breaking Storm 4.23               12   \n",
       "108     Extraction, Quickblade Of Trembling Hands    3.53                9   \n",
       "145     Fiery Glass Crusader                         4.58                9   \n",
       "82      Nirvana                                      4.90                9   \n",
       "37      Shadow Strike, Glory of Ending Hope          3.16                8   \n",
       "...                                                                    ...   \n",
       "27      Riddle, Tribute of Ended Dreams              3.30                1   \n",
       "30      Stormcaller                                  3.36                1   \n",
       "126     Exiled Mithril Longsword                     2.00                1   \n",
       "51      Endbringer                                   4.66                1   \n",
       "91      Celeste                                      4.17                1   \n",
       "\n",
       "                                                                                                   Item Price  \\\n",
       "Item ID Item Name                                    Price                                                      \n",
       "178     Oathbreaker, Last Hope of the Breaking Storm 4.23   ((178, Oathbreaker, Last Hope of the Breaking ...   \n",
       "108     Extraction, Quickblade Of Trembling Hands    3.53   ((108, Extraction, Quickblade Of Trembling Han...   \n",
       "145     Fiery Glass Crusader                         4.58   ((145, Fiery Glass Crusader, 4.58), [4.58, 4.5...   \n",
       "82      Nirvana                                      4.90   ((82, Nirvana, 4.9), [4.9, 4.9, 4.9, 4.9, 4.9,...   \n",
       "37      Shadow Strike, Glory of Ending Hope          3.16   ((37, Shadow Strike, Glory of Ending Hope, 3.1...   \n",
       "...                                                                                                       ...   \n",
       "27      Riddle, Tribute of Ended Dreams              3.30   ((27, Riddle, Tribute of Ended Dreams, 3.3), [...   \n",
       "30      Stormcaller                                  3.36                   ((30, Stormcaller, 3.36), [3.36])   \n",
       "126     Exiled Mithril Longsword                     2.00       ((126, Exiled Mithril Longsword, 2.0), [2.0])   \n",
       "51      Endbringer                                   4.66                    ((51, Endbringer, 4.66), [4.66])   \n",
       "91      Celeste                                      4.17                       ((91, Celeste, 4.17), [4.17])   \n",
       "\n",
       "                                                           Total Purchase Value  \n",
       "Item ID Item Name                                    Price                       \n",
       "178     Oathbreaker, Last Hope of the Breaking Storm 4.23                $50.76  \n",
       "108     Extraction, Quickblade Of Trembling Hands    3.53                $31.77  \n",
       "145     Fiery Glass Crusader                         4.58                $41.22  \n",
       "82      Nirvana                                      4.90                $44.10  \n",
       "37      Shadow Strike, Glory of Ending Hope          3.16                $25.28  \n",
       "...                                                                         ...  \n",
       "27      Riddle, Tribute of Ended Dreams              3.30                 $3.30  \n",
       "30      Stormcaller                                  3.36                 $3.36  \n",
       "126     Exiled Mithril Longsword                     2.00                 $2.00  \n",
       "51      Endbringer                                   4.66                 $4.66  \n",
       "91      Celeste                                      4.17                 $4.17  \n",
       "\n",
       "[183 rows x 3 columns]"
      ]
     },
     "execution_count": 59,
     "metadata": {},
     "output_type": "execute_result"
    }
   ],
   "source": [
    "Sorted_Most_Popular_Item_df = Most_Popular_Item_df.sort_values(\"Purchase Count\",ascending=False)\n",
    "Sorted_Most_Popular_Item_df"
   ]
  },
  {
   "cell_type": "markdown",
   "metadata": {},
   "source": [
    "\n",
    "Most Profitable Items\n",
    " \n",
    "Sort the above table by total purchase value in descending order\n",
    "\n",
    "\n",
    "Optional: give the displayed data cleaner formatting\n",
    "\n",
    "\n",
    "Display a preview of the data frame"
   ]
  },
  {
   "cell_type": "code",
   "execution_count": 490,
   "metadata": {},
   "outputs": [
    {
     "data": {
      "text/html": [
       "<div>\n",
       "<style scoped>\n",
       "    .dataframe tbody tr th:only-of-type {\n",
       "        vertical-align: middle;\n",
       "    }\n",
       "\n",
       "    .dataframe tbody tr th {\n",
       "        vertical-align: top;\n",
       "    }\n",
       "\n",
       "    .dataframe thead th {\n",
       "        text-align: right;\n",
       "    }\n",
       "</style>\n",
       "<table border=\"1\" class=\"dataframe\">\n",
       "  <thead>\n",
       "    <tr style=\"text-align: right;\">\n",
       "      <th></th>\n",
       "      <th></th>\n",
       "      <th></th>\n",
       "      <th>Purchase Count</th>\n",
       "      <th>Item Price</th>\n",
       "      <th>Total Purchase Value</th>\n",
       "    </tr>\n",
       "    <tr>\n",
       "      <th>Item ID</th>\n",
       "      <th>Item Name</th>\n",
       "      <th>Price</th>\n",
       "      <th></th>\n",
       "      <th></th>\n",
       "      <th></th>\n",
       "    </tr>\n",
       "  </thead>\n",
       "  <tbody>\n",
       "    <tr>\n",
       "      <th>63</th>\n",
       "      <th>Stormfury Mace</th>\n",
       "      <th>4.99</th>\n",
       "      <td>2</td>\n",
       "      <td>((63, Stormfury Mace, 4.99), [4.99, 4.99])</td>\n",
       "      <td>$9.98</td>\n",
       "    </tr>\n",
       "    <tr>\n",
       "      <th>29</th>\n",
       "      <th>Chaos, Ender of the End</th>\n",
       "      <th>1.98</th>\n",
       "      <td>5</td>\n",
       "      <td>((29, Chaos, Ender of the End, 1.98), [1.98, 1...</td>\n",
       "      <td>$9.90</td>\n",
       "    </tr>\n",
       "    <tr>\n",
       "      <th>173</th>\n",
       "      <th>Stormfury Longsword</th>\n",
       "      <th>4.93</th>\n",
       "      <td>2</td>\n",
       "      <td>((173, Stormfury Longsword, 4.93), [4.93, 4.93])</td>\n",
       "      <td>$9.86</td>\n",
       "    </tr>\n",
       "    <tr>\n",
       "      <th>1</th>\n",
       "      <th>Crucifer</th>\n",
       "      <th>3.26</th>\n",
       "      <td>3</td>\n",
       "      <td>((1, Crucifer, 3.26), [3.26, 3.26, 3.26])</td>\n",
       "      <td>$9.78</td>\n",
       "    </tr>\n",
       "    <tr>\n",
       "      <th>38</th>\n",
       "      <th>The Void, Vengeance of Dark Magic</th>\n",
       "      <th>2.37</th>\n",
       "      <td>4</td>\n",
       "      <td>((38, The Void, Vengeance of Dark Magic, 2.37)...</td>\n",
       "      <td>$9.48</td>\n",
       "    </tr>\n",
       "    <tr>\n",
       "      <th>...</th>\n",
       "      <th>...</th>\n",
       "      <th>...</th>\n",
       "      <td>...</td>\n",
       "      <td>...</td>\n",
       "      <td>...</td>\n",
       "    </tr>\n",
       "    <tr>\n",
       "      <th>151</th>\n",
       "      <th>Severance</th>\n",
       "      <th>3.40</th>\n",
       "      <td>3</td>\n",
       "      <td>((151, Severance, 3.4), [3.4, 3.4, 3.4])</td>\n",
       "      <td>$10.20</td>\n",
       "    </tr>\n",
       "    <tr>\n",
       "      <th>110</th>\n",
       "      <th>Suspension</th>\n",
       "      <th>1.44</th>\n",
       "      <td>7</td>\n",
       "      <td>((110, Suspension, 1.44), [1.44, 1.44, 1.44, 1...</td>\n",
       "      <td>$10.08</td>\n",
       "    </tr>\n",
       "    <tr>\n",
       "      <th>1</th>\n",
       "      <th>Crucifer</th>\n",
       "      <th>1.99</th>\n",
       "      <td>1</td>\n",
       "      <td>((1, Crucifer, 1.99), [1.99])</td>\n",
       "      <td>$1.99</td>\n",
       "    </tr>\n",
       "    <tr>\n",
       "      <th>104</th>\n",
       "      <th>Gladiator's Glaive</th>\n",
       "      <th>1.93</th>\n",
       "      <td>1</td>\n",
       "      <td>((104, Gladiator's Glaive, 1.93), [1.93])</td>\n",
       "      <td>$1.93</td>\n",
       "    </tr>\n",
       "    <tr>\n",
       "      <th>42</th>\n",
       "      <th>The Decapitator</th>\n",
       "      <th>1.75</th>\n",
       "      <td>1</td>\n",
       "      <td>((42, The Decapitator, 1.75), [1.75])</td>\n",
       "      <td>$1.75</td>\n",
       "    </tr>\n",
       "  </tbody>\n",
       "</table>\n",
       "<p>183 rows × 3 columns</p>\n",
       "</div>"
      ],
      "text/plain": [
       "                                                 Purchase Count  \\\n",
       "Item ID Item Name                         Price                   \n",
       "63      Stormfury Mace                    4.99                2   \n",
       "29      Chaos, Ender of the End           1.98                5   \n",
       "173     Stormfury Longsword               4.93                2   \n",
       "1       Crucifer                          3.26                3   \n",
       "38      The Void, Vengeance of Dark Magic 2.37                4   \n",
       "...                                                         ...   \n",
       "151     Severance                         3.40                3   \n",
       "110     Suspension                        1.44                7   \n",
       "1       Crucifer                          1.99                1   \n",
       "104     Gladiator's Glaive                1.93                1   \n",
       "42      The Decapitator                   1.75                1   \n",
       "\n",
       "                                                                                        Item Price  \\\n",
       "Item ID Item Name                         Price                                                      \n",
       "63      Stormfury Mace                    4.99          ((63, Stormfury Mace, 4.99), [4.99, 4.99])   \n",
       "29      Chaos, Ender of the End           1.98   ((29, Chaos, Ender of the End, 1.98), [1.98, 1...   \n",
       "173     Stormfury Longsword               4.93    ((173, Stormfury Longsword, 4.93), [4.93, 4.93])   \n",
       "1       Crucifer                          3.26           ((1, Crucifer, 3.26), [3.26, 3.26, 3.26])   \n",
       "38      The Void, Vengeance of Dark Magic 2.37   ((38, The Void, Vengeance of Dark Magic, 2.37)...   \n",
       "...                                                                                            ...   \n",
       "151     Severance                         3.40            ((151, Severance, 3.4), [3.4, 3.4, 3.4])   \n",
       "110     Suspension                        1.44   ((110, Suspension, 1.44), [1.44, 1.44, 1.44, 1...   \n",
       "1       Crucifer                          1.99                       ((1, Crucifer, 1.99), [1.99])   \n",
       "104     Gladiator's Glaive                1.93           ((104, Gladiator's Glaive, 1.93), [1.93])   \n",
       "42      The Decapitator                   1.75               ((42, The Decapitator, 1.75), [1.75])   \n",
       "\n",
       "                                                Total Purchase Value  \n",
       "Item ID Item Name                         Price                       \n",
       "63      Stormfury Mace                    4.99                 $9.98  \n",
       "29      Chaos, Ender of the End           1.98                 $9.90  \n",
       "173     Stormfury Longsword               4.93                 $9.86  \n",
       "1       Crucifer                          3.26                 $9.78  \n",
       "38      The Void, Vengeance of Dark Magic 2.37                 $9.48  \n",
       "...                                                              ...  \n",
       "151     Severance                         3.40                $10.20  \n",
       "110     Suspension                        1.44                $10.08  \n",
       "1       Crucifer                          1.99                 $1.99  \n",
       "104     Gladiator's Glaive                1.93                 $1.93  \n",
       "42      The Decapitator                   1.75                 $1.75  \n",
       "\n",
       "[183 rows x 3 columns]"
      ]
     },
     "execution_count": 490,
     "metadata": {},
     "output_type": "execute_result"
    }
   ],
   "source": [
    "Sorted_TPV_df = Sorted_Most_Popular_Item_df.sort_values(\"Total Purchase Value\",ascending=False)\n",
    "Sorted_TPV_df"
   ]
  },
  {
   "cell_type": "code",
   "execution_count": null,
   "metadata": {},
   "outputs": [],
   "source": []
  },
  {
   "cell_type": "code",
   "execution_count": null,
   "metadata": {},
   "outputs": [],
   "source": []
  }
 ],
 "metadata": {
  "kernelspec": {
   "display_name": "Python [conda env:pythondata]",
   "language": "python",
   "name": "conda-env-pythondata-py"
  },
  "language_info": {
   "codemirror_mode": {
    "name": "ipython",
    "version": 3
   },
   "file_extension": ".py",
   "mimetype": "text/x-python",
   "name": "python",
   "nbconvert_exporter": "python",
   "pygments_lexer": "ipython3",
   "version": "3.6.10"
  }
 },
 "nbformat": 4,
 "nbformat_minor": 4
}
